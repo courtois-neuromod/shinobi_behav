{
 "cells": [
  {
   "cell_type": "markdown",
   "metadata": {},
   "source": [
    "# Load the data"
   ]
  },
  {
   "cell_type": "code",
   "execution_count": 1,
   "metadata": {},
   "outputs": [],
   "source": [
    "import pandas as pd\n",
    "from src.data.data import remove_fake_reps, retrieve_variables, combine_variables\n",
    "from src.features.features import aggregate_vars"
   ]
  },
  {
   "cell_type": "markdown",
   "metadata": {},
   "source": [
    "Two ways to go : \n",
    "- Make sure that the data are in path_to_data following either bids (home) or pseudo-bids (scans) convention. This is done by running the next cell.\n",
    "- Download the file at --ask me for link-- and open it with the following cell"
   ]
  },
  {
   "cell_type": "code",
   "execution_count": null,
   "metadata": {},
   "outputs": [
    {
     "name": "stdout",
     "output_type": "stream",
     "text": [
      "/home/hyruuk/GitHub/neuromod/hyruuk_shinobi_behav/data/bidsbehav/sub-01/ses-001/beh/sub-01_ses-001_task-shinobi_level-1_rep-001_gamedata.bk2\n",
      "/home/hyruuk/GitHub/neuromod/hyruuk_shinobi_behav/data/bidsbehav/sub-01/ses-002/beh/sub-01_ses-002_task-shinobi_level-1_rep-001_gamedata.bk2\n",
      "/home/hyruuk/GitHub/neuromod/hyruuk_shinobi_behav/data/bidsbehav/sub-01/ses-002/beh/sub-01_ses-002_task-shinobi_level-1_rep-002_gamedata.bk2\n",
      "/home/hyruuk/GitHub/neuromod/hyruuk_shinobi_behav/data/bidsbehav/sub-01/ses-003/beh/sub-01_ses-003_task-shinobi_level-1_rep-001_gamedata.bk2\n",
      "/home/hyruuk/GitHub/neuromod/hyruuk_shinobi_behav/data/bidsbehav/sub-01/ses-003/beh/sub-01_ses-003_task-shinobi_level-1_rep-002_gamedata.bk2\n",
      "/home/hyruuk/GitHub/neuromod/hyruuk_shinobi_behav/data/bidsbehav/sub-01/ses-003/beh/sub-01_ses-003_task-shinobi_level-1_rep-003_gamedata.bk2\n",
      "/home/hyruuk/GitHub/neuromod/hyruuk_shinobi_behav/data/bidsbehav/sub-01/ses-003/beh/sub-01_ses-003_task-shinobi_level-1_rep-004_gamedata.bk2\n",
      "/home/hyruuk/GitHub/neuromod/hyruuk_shinobi_behav/data/bidsbehav/sub-01/ses-004/beh/sub-01_ses-004_task-shinobi_level-1_rep-001_gamedata.bk2\n",
      "/home/hyruuk/GitHub/neuromod/hyruuk_shinobi_behav/data/bidsbehav/sub-01/ses-004/beh/sub-01_ses-004_task-shinobi_level-1_rep-002_gamedata.bk2\n",
      "/home/hyruuk/GitHub/neuromod/hyruuk_shinobi_behav/data/bidsbehav/sub-01/ses-004/beh/sub-01_ses-004_task-shinobi_level-1_rep-003_gamedata.bk2\n",
      "/home/hyruuk/GitHub/neuromod/hyruuk_shinobi_behav/data/bidsbehav/sub-01/ses-004/beh/sub-01_ses-004_task-shinobi_level-1_rep-004_gamedata.bk2\n",
      "/home/hyruuk/GitHub/neuromod/hyruuk_shinobi_behav/data/bidsbehav/sub-01/ses-004/beh/sub-01_ses-004_task-shinobi_level-1_rep-005_gamedata.bk2\n",
      "/home/hyruuk/GitHub/neuromod/hyruuk_shinobi_behav/data/bidsbehav/sub-01/ses-004/beh/sub-01_ses-004_task-shinobi_level-1_rep-006_gamedata.bk2\n",
      "/home/hyruuk/GitHub/neuromod/hyruuk_shinobi_behav/data/bidsbehav/sub-01/ses-004/beh/sub-01_ses-004_task-shinobi_level-1_rep-007_gamedata.bk2\n",
      "/home/hyruuk/GitHub/neuromod/hyruuk_shinobi_behav/data/bidsbehav/sub-01/ses-004/beh/sub-01_ses-004_task-shinobi_level-1_rep-008_gamedata.bk2\n",
      "/home/hyruuk/GitHub/neuromod/hyruuk_shinobi_behav/data/bidsbehav/sub-01/ses-004/beh/sub-01_ses-004_task-shinobi_level-1_rep-009_gamedata.bk2\n",
      "/home/hyruuk/GitHub/neuromod/hyruuk_shinobi_behav/data/bidsbehav/sub-01/ses-004/beh/sub-01_ses-004_task-shinobi_level-1_rep-010_gamedata.bk2\n",
      "/home/hyruuk/GitHub/neuromod/hyruuk_shinobi_behav/data/bidsbehav/sub-01/ses-004/beh/sub-01_ses-004_task-shinobi_level-1_rep-011_gamedata.bk2\n",
      "/home/hyruuk/GitHub/neuromod/hyruuk_shinobi_behav/data/bidsbehav/sub-01/ses-004/beh/sub-01_ses-004_task-shinobi_level-1_rep-012_gamedata.bk2\n",
      "/home/hyruuk/GitHub/neuromod/hyruuk_shinobi_behav/data/bidsbehav/sub-01/ses-004/beh/sub-01_ses-004_task-shinobi_level-1_rep-013_gamedata.bk2\n",
      "/home/hyruuk/GitHub/neuromod/hyruuk_shinobi_behav/data/bidsbehav/sub-01/ses-004/beh/sub-01_ses-004_task-shinobi_level-1_rep-014_gamedata.bk2\n",
      "/home/hyruuk/GitHub/neuromod/hyruuk_shinobi_behav/data/bidsbehav/sub-01/ses-004/beh/sub-01_ses-004_task-shinobi_level-1_rep-015_gamedata.bk2\n",
      "/home/hyruuk/GitHub/neuromod/hyruuk_shinobi_behav/data/bidsbehav/sub-01/ses-004/beh/sub-01_ses-004_task-shinobi_level-1_rep-016_gamedata.bk2\n",
      "/home/hyruuk/GitHub/neuromod/hyruuk_shinobi_behav/data/bidsbehav/sub-01/ses-004/beh/sub-01_ses-004_task-shinobi_level-1_rep-017_gamedata.bk2\n",
      "/home/hyruuk/GitHub/neuromod/hyruuk_shinobi_behav/data/bidsbehav/sub-01/ses-005/beh/sub-01_ses-005_task-shinobi_level-1_rep-001_gamedata.bk2\n",
      "/home/hyruuk/GitHub/neuromod/hyruuk_shinobi_behav/data/bidsbehav/sub-01/ses-005/beh/sub-01_ses-005_task-shinobi_level-1_rep-002_gamedata.bk2\n",
      "/home/hyruuk/GitHub/neuromod/hyruuk_shinobi_behav/data/bidsbehav/sub-01/ses-005/beh/sub-01_ses-005_task-shinobi_level-1_rep-003_gamedata.bk2\n",
      "/home/hyruuk/GitHub/neuromod/hyruuk_shinobi_behav/data/bidsbehav/sub-01/ses-005/beh/sub-01_ses-005_task-shinobi_level-1_rep-004_gamedata.bk2\n",
      "/home/hyruuk/GitHub/neuromod/hyruuk_shinobi_behav/data/bidsbehav/sub-01/ses-005/beh/sub-01_ses-005_task-shinobi_level-1_rep-005_gamedata.bk2\n",
      "/home/hyruuk/GitHub/neuromod/hyruuk_shinobi_behav/data/bidsbehav/sub-01/ses-005/beh/sub-01_ses-005_task-shinobi_level-1_rep-006_gamedata.bk2\n",
      "/home/hyruuk/GitHub/neuromod/hyruuk_shinobi_behav/data/bidsbehav/sub-01/ses-005/beh/sub-01_ses-005_task-shinobi_level-1_rep-007_gamedata.bk2\n",
      "/home/hyruuk/GitHub/neuromod/hyruuk_shinobi_behav/data/bidsbehav/sub-01/ses-005/beh/sub-01_ses-005_task-shinobi_level-1_rep-008_gamedata.bk2\n"
     ]
    }
   ],
   "source": [
    "path_to_data = '/home/hyruuk/GitHub/neuromod/hyruuk_shinobi_behav/data'\n",
    "\n",
    "# load the data in a dict structure\n",
    "alldata_dict = {}\n",
    "for subject in ['sub-01', 'sub-02']:\n",
    "    for level in ['1', '4', '5']:\n",
    "        for setup in ['home', 'scan']:\n",
    "            if setup == 'home':\n",
    "                behav = True\n",
    "            if setup == 'scan':\n",
    "                behav = False\n",
    "            allvars = combine_variables(path_to_data, subject, level, behav=behav, save=True)\n",
    "            allvars_clean = remove_fake_reps(allvars)\n",
    "            data_dict = aggregate_vars(allvars, metric=None, days_of_train=False, health_lost=True, max_score=True, completion_perc=True)\n",
    "            alldata_dict['{}_{}_{}'.format(subject, level, setup)] = data_dict\n",
    "            \n",
    "\n",
    "# arrange the data as a dataframe suited for stats\n",
    "df = pd.DataFrame(columns=['Passage order', 'Health loss', 'Max score', 'Percent complete', 'Subject', 'Level', 'Setup'])\n",
    "for key in alldata_dict.keys():\n",
    "    for idx in alldata_dict[key][list(alldata_dict[key].keys())[0]]:\n",
    "        df = df.append({\n",
    "         \"Passage order\": alldata_dict[key]['Passage order'][idx],\n",
    "         \"Health loss\":  alldata_dict[key]['Health loss'][idx],\n",
    "         \"Max score\": alldata_dict[key]['Max score'][idx],\n",
    "         \"Percent complete\": alldata_dict[key]['Percent complete'][idx],\n",
    "         \"Subject\": key[5],\n",
    "         \"Level\": key[7],\n",
    "         \"Setup\": key[9:13]\n",
    "          }, ignore_index=True)\n",
    "\n",
    "df.reset_index().to_csv(path_to_data + '/processed/homeVSscan.csv')"
   ]
  },
  {
   "cell_type": "code",
   "execution_count": null,
   "metadata": {},
   "outputs": [],
   "source": [
    "df = pd.read_csv(path_to_data + '/processed/homeVSscan.csv')"
   ]
  },
  {
   "cell_type": "markdown",
   "metadata": {},
   "source": [
    "# Now let's run some stats\n",
    "\n",
    "We want to run an ANOVA on each measure with the factors \"Setup\" (home vs scan), \"Subject\" (1 vs 2, maybe more later), \"Level\" (1 vs 4 vs 5), and we would like to see the Setup factor as non-significant."
   ]
  },
  {
   "cell_type": "code",
   "execution_count": null,
   "metadata": {},
   "outputs": [],
   "source": []
  },
  {
   "cell_type": "code",
   "execution_count": null,
   "metadata": {},
   "outputs": [],
   "source": []
  },
  {
   "cell_type": "code",
   "execution_count": null,
   "metadata": {
    "scrolled": true
   },
   "outputs": [],
   "source": []
  },
  {
   "cell_type": "code",
   "execution_count": null,
   "metadata": {},
   "outputs": [],
   "source": []
  },
  {
   "cell_type": "code",
   "execution_count": null,
   "metadata": {},
   "outputs": [],
   "source": []
  },
  {
   "cell_type": "code",
   "execution_count": null,
   "metadata": {},
   "outputs": [],
   "source": []
  },
  {
   "cell_type": "code",
   "execution_count": null,
   "metadata": {},
   "outputs": [],
   "source": []
  }
 ],
 "metadata": {
  "kernelspec": {
   "display_name": "hyruuk_shinobi_behav",
   "language": "python",
   "name": "hyruuk_shinobi_behav"
  },
  "language_info": {
   "codemirror_mode": {
    "name": "ipython",
    "version": 3
   },
   "file_extension": ".py",
   "mimetype": "text/x-python",
   "name": "python",
   "nbconvert_exporter": "python",
   "pygments_lexer": "ipython3",
   "version": "3.8.0"
  }
 },
 "nbformat": 4,
 "nbformat_minor": 4
}
