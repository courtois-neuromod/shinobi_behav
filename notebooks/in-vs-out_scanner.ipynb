{
 "cells": [
  {
   "cell_type": "markdown",
   "metadata": {},
   "source": [
    "# Load the data"
   ]
  },
  {
   "cell_type": "code",
   "execution_count": 1,
   "metadata": {},
   "outputs": [],
   "source": [
    "import pickle\n",
    "from src.data.data import remove_fake_reps, retrieve_variables, combine_variables\n",
    "from src.features.features import aggregate_vars"
   ]
  },
  {
   "cell_type": "markdown",
   "metadata": {},
   "source": [
    "Two ways to go : \n",
    "- Make sure that the data are in path_to_data following either bids (home) or pseudo-bids (scans) convention. This is done by running the next cell.\n",
    "- Download the file at --ask me for link-- and open it with the following cell"
   ]
  },
  {
   "cell_type": "code",
   "execution_count": null,
   "metadata": {},
   "outputs": [],
   "source": [
    "path_to_data = '/home/hyruuk/GitHub/neuromod/hyruuk_shinobi_behav/data'\n",
    "\n",
    "alldata_dict = {}\n",
    "for subject in ['sub-01', 'sub-02']:\n",
    "    for level in ['1', '4', '5']:\n",
    "        for setup in ['home', 'scan']:\n",
    "            if setup == 'home':\n",
    "                behav = True\n",
    "            if setup == 'scan':\n",
    "                behav = False\n",
    "            allvars = combine_variables(path_to_data, subject, level, behav=behav, save=True)\n",
    "            allvars_clean = remove_fake_reps(allvars)\n",
    "            data_dict = aggregate_vars(allvars, metric=None, days_of_train=False, health_lost=True, max_score=True, completion_prob=True)\n",
    "            alldata_dict['{}_{}_{}'.format(subject, level, setup)] = data_dict\n",
    "            \n",
    "with open(path_to_data + '/processed/homeVSscan_datadicts.pkl', 'wb') as f:\n",
    "    pickle.dump(alldata_dict, f)"
   ]
  },
  {
   "cell_type": "code",
   "execution_count": 2,
   "metadata": {},
   "outputs": [],
   "source": [
    "path_to_data = '/home/hyruuk/GitHub/neuromod/hyruuk_shinobi_behav/data'\n",
    "\n",
    "with open(path_to_data + '/processed/homeVSscan_datadicts.pkl', 'rb') as f:\n",
    "    alldata_dict = pickle.load(f)"
   ]
  },
  {
   "cell_type": "code",
   "execution_count": 3,
   "metadata": {},
   "outputs": [
    {
     "data": {
      "text/plain": [
       "dict_keys(['sub-01_1_home', 'sub-01_1_scan', 'sub-01_4_home', 'sub-01_4_scan', 'sub-01_5_home', 'sub-01_5_scan', 'sub-02_1_home', 'sub-02_1_scan', 'sub-02_4_home', 'sub-02_4_scan', 'sub-02_5_home', 'sub-02_5_scan'])"
      ]
     },
     "execution_count": 3,
     "metadata": {},
     "output_type": "execute_result"
    }
   ],
   "source": [
    "alldata_dict.keys()"
   ]
  },
  {
   "cell_type": "code",
   "execution_count": 4,
   "metadata": {},
   "outputs": [
    {
     "data": {
      "text/plain": [
       "dict_keys(['Passation order', 'Health loss', 'Max score', 'Completion prob'])"
      ]
     },
     "execution_count": 4,
     "metadata": {},
     "output_type": "execute_result"
    }
   ],
   "source": [
    "alldata_dict['sub-01_1_home'].keys()"
   ]
  },
  {
   "cell_type": "code",
   "execution_count": 7,
   "metadata": {},
   "outputs": [
    {
     "data": {
      "text/plain": [
       "[-28,\n",
       " -31,\n",
       " -23,\n",
       " 0,\n",
       " -17,\n",
       " -7,\n",
       " -2,\n",
       " -5,\n",
       " -18,\n",
       " -1,\n",
       " -1,\n",
       " -6,\n",
       " 0,\n",
       " -1,\n",
       " -6,\n",
       " 0,\n",
       " -1,\n",
       " -3,\n",
       " -2,\n",
       " -16,\n",
       " -2,\n",
       " -1,\n",
       " -1,\n",
       " -5,\n",
       " -4,\n",
       " 0,\n",
       " 0,\n",
       " -2,\n",
       " -1,\n",
       " -3,\n",
       " -4,\n",
       " -1,\n",
       " -2,\n",
       " 0,\n",
       " -1,\n",
       " -16,\n",
       " 0,\n",
       " -3,\n",
       " 0,\n",
       " -2,\n",
       " -3,\n",
       " 0,\n",
       " -3,\n",
       " 0,\n",
       " 0,\n",
       " 0,\n",
       " 0,\n",
       " -4,\n",
       " -16,\n",
       " -2,\n",
       " -1,\n",
       " -1,\n",
       " 0,\n",
       " -1,\n",
       " -16,\n",
       " -5,\n",
       " 0,\n",
       " -16]"
      ]
     },
     "execution_count": 7,
     "metadata": {},
     "output_type": "execute_result"
    }
   ],
   "source": [
    "alldata_dict['sub-01_1_scan']['Health loss']"
   ]
  },
  {
   "cell_type": "code",
   "execution_count": null,
   "metadata": {},
   "outputs": [],
   "source": []
  },
  {
   "cell_type": "code",
   "execution_count": null,
   "metadata": {},
   "outputs": [],
   "source": []
  },
  {
   "cell_type": "code",
   "execution_count": null,
   "metadata": {},
   "outputs": [],
   "source": []
  }
 ],
 "metadata": {
  "kernelspec": {
   "display_name": "Python 3 (ipykernel)",
   "language": "python",
   "name": "python3"
  },
  "language_info": {
   "codemirror_mode": {
    "name": "ipython",
    "version": 3
   },
   "file_extension": ".py",
   "mimetype": "text/x-python",
   "name": "python",
   "nbconvert_exporter": "python",
   "pygments_lexer": "ipython3",
   "version": "3.7.7"
  }
 },
 "nbformat": 4,
 "nbformat_minor": 4
}
